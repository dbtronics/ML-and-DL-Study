{
 "cells": [
  {
   "cell_type": "code",
   "execution_count": null,
   "metadata": {
    "collapsed": true
   },
   "outputs": [],
   "source": [
    "import cv2\n",
    "import numpy as np\n",
    "\n",
    "img = cv2.imread('numbers.jpg', 0)\n",
    "cv2.imshow('before', img)\n",
    "cv2.waitKey(0)\n",
    "threshold_num = [55, 90, 150]\n",
    "for i in threshold_num:\n",
    "    img2 = img.copy()\n",
    "    for row in img2:\n",
    "        for j in range(len(row)):\n",
    "            if row[j] > i:\n",
    "                row[j] = 255\n",
    "            else:\n",
    "                row[j] = 0\n",
    "    cv2.imshow('after {} threshold'.format(i), img2)\n",
    "    cv2.waitKey(0)\n"
   ]
  },
  {
   "cell_type": "code",
   "execution_count": null,
   "outputs": [],
   "source": [],
   "metadata": {
    "collapsed": false,
    "pycharm": {
     "name": "#%%\n"
    }
   }
  }
 ],
 "metadata": {
  "kernelspec": {
   "display_name": "Python 3",
   "language": "python",
   "name": "python3"
  },
  "language_info": {
   "codemirror_mode": {
    "name": "ipython",
    "version": 2
   },
   "file_extension": ".py",
   "mimetype": "text/x-python",
   "name": "python",
   "nbconvert_exporter": "python",
   "pygments_lexer": "ipython2",
   "version": "2.7.6"
  }
 },
 "nbformat": 4,
 "nbformat_minor": 0
}