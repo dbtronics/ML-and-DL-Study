{
 "cells": [
  {
   "cell_type": "code",
   "execution_count": null,
   "metadata": {},
   "outputs": [],
   "source": [
    "import cv2\n",
    "import numpy as np\n",
    "\n",
    "img = cv2.imread('numbers.jpg', 0)\n",
    "cv2.imshow('before', img)\n",
    "cv2.waitKey(0)\n",
    "threshold_num = [55, 90, 150]\n",
    "for i in threshold_num:\n",
    "    img2 = img.copy()\n",
    "    for row in img2:\n",
    "        for j in range(len(row)):\n",
    "            if row[j] > i:\n",
    "                row[j] = 255\n",
    "            else:\n",
    "                row[j] = 0\n",
    "    cv2.imshow('after {} threshold'.format(i), img2)\n",
    "    # cv2.waitKey(0)\n"
   ]
  },
  {
   "cell_type": "code",
   "execution_count": null,
   "metadata": {},
   "outputs": [],
   "source": [
    "import matplotlib.pyplot as plt\n",
    "import numpy as np\n",
    "\n",
    "x = np.arange(-5, 5, 0.1)\n",
    "y = np.arange(-5, 5, 0.1)\n",
    "xx, yy = np.meshgrid(x,y, sparse = True)\n",
    "z = np.exp(-0.5 * (np.square(xx) + np.square(yy)) / np.square(1))\n",
    "\n",
    "print(\"x: \")\n",
    "print(x.shape)\n",
    "# print(x)\n",
    "print(\"\")\n",
    "print(\"y: \")\n",
    "print(y.shape)\n",
    "# print(y)\n",
    "print(\"\")\n",
    "print(\"xx: \")\n",
    "print(xx.shape)\n",
    "# print(xx)\n",
    "print(\"\")\n",
    "print(\"yy: \")\n",
    "print(yy.shape)\n",
    "# print(yy)\n",
    "print(\"\")\n",
    "print(\"z: \")\n",
    "print(z.shape)\n",
    "# print(z)\n",
    "h = plt.contourf(x,y,z)\n",
    "plt.show()"
   ]
  },
  {
   "cell_type": "code",
   "execution_count": null,
   "metadata": {},
   "outputs": [],
   "source": []
  }
 ],
 "metadata": {
  "kernelspec": {
   "display_name": "Python 3",
   "language": "python",
   "name": "python3"
  }
 },
 "nbformat": 4,
 "nbformat_minor": 2
}
